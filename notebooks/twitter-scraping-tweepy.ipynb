{
 "cells": [
  {
   "cell_type": "markdown",
   "metadata": {},
   "source": [
    "# Twitter scraping using Tweepy"
   ]
  },
  {
   "cell_type": "markdown",
   "metadata": {},
   "source": [
    "To install: `pip install tweepy`"
   ]
  },
  {
   "cell_type": "code",
   "execution_count": 8,
   "metadata": {},
   "outputs": [],
   "source": [
    "import tweepy\n",
    "from configparser import ConfigParser\n",
    "import pandas as pd\n",
    "import os.path as path"
   ]
  },
  {
   "cell_type": "markdown",
   "metadata": {},
   "source": [
    "## Load credentials"
   ]
  },
  {
   "cell_type": "code",
   "execution_count": 3,
   "metadata": {},
   "outputs": [
    {
     "data": {
      "text/plain": [
       "['../.secret/credentials.ini']"
      ]
     },
     "execution_count": 3,
     "metadata": {},
     "output_type": "execute_result"
    }
   ],
   "source": [
    "cp = ConfigParser()\n",
    "cp.read('../.secret/credentials.ini')"
   ]
  },
  {
   "cell_type": "markdown",
   "metadata": {},
   "source": [
    "## Get companies' Twitter ids"
   ]
  },
  {
   "cell_type": "markdown",
   "metadata": {},
   "source": [
    "Load the Twitter handles for companies."
   ]
  },
  {
   "cell_type": "code",
   "execution_count": 4,
   "metadata": {},
   "outputs": [],
   "source": [
    "DATA_DIR = \"../data/\""
   ]
  },
  {
   "cell_type": "code",
   "execution_count": 12,
   "metadata": {},
   "outputs": [],
   "source": [
    "companies_twitter_handles_uk = pd.read_csv(path.join(DATA_DIR, 'companies_twitter_handles_uk.csv'), header=None)\n",
    "companies_twitter_handles_uk.columns = ['twitter_handle', 'ticker', 'sector']\n",
    "companies_twitter_handles_uk = companies_twitter_handles_uk.append(\n",
    "    {'twitter_handle': 'UKGamesWorkshop'}, ignore_index=True\n",
    ")\n",
    "companies_twitter_handles_uk_list = list(companies_twitter_handles_uk['twitter_handle'].values)"
   ]
  },
  {
   "cell_type": "code",
   "execution_count": 10,
   "metadata": {},
   "outputs": [
    {
     "data": {
      "text/html": [
       "<div>\n",
       "<style scoped>\n",
       "    .dataframe tbody tr th:only-of-type {\n",
       "        vertical-align: middle;\n",
       "    }\n",
       "\n",
       "    .dataframe tbody tr th {\n",
       "        vertical-align: top;\n",
       "    }\n",
       "\n",
       "    .dataframe thead th {\n",
       "        text-align: right;\n",
       "    }\n",
       "</style>\n",
       "<table border=\"1\" class=\"dataframe\">\n",
       "  <thead>\n",
       "    <tr style=\"text-align: right;\">\n",
       "      <th></th>\n",
       "      <th>twitter_handle</th>\n",
       "      <th>ticker</th>\n",
       "      <th>sector</th>\n",
       "    </tr>\n",
       "  </thead>\n",
       "  <tbody>\n",
       "    <tr>\n",
       "      <th>0</th>\n",
       "      <td>3i</td>\n",
       "      <td>III</td>\n",
       "      <td>FinancialServices</td>\n",
       "    </tr>\n",
       "    <tr>\n",
       "      <th>1</th>\n",
       "      <td>3iInfrastructure</td>\n",
       "      <td>3IN</td>\n",
       "      <td>NaN</td>\n",
       "    </tr>\n",
       "    <tr>\n",
       "      <th>2</th>\n",
       "      <td>888Holdings</td>\n",
       "      <td>888</td>\n",
       "      <td>NaN</td>\n",
       "    </tr>\n",
       "    <tr>\n",
       "      <th>3</th>\n",
       "      <td>AA</td>\n",
       "      <td>AA.</td>\n",
       "      <td>NaN</td>\n",
       "    </tr>\n",
       "    <tr>\n",
       "      <th>4</th>\n",
       "      <td>AberforthSmallerCompaniesTrust</td>\n",
       "      <td>ASL</td>\n",
       "      <td>NaN</td>\n",
       "    </tr>\n",
       "  </tbody>\n",
       "</table>\n",
       "</div>"
      ],
      "text/plain": [
       "                   twitter_handle ticker             sector\n",
       "0                              3i    III  FinancialServices\n",
       "1                3iInfrastructure    3IN                NaN\n",
       "2                     888Holdings    888                NaN\n",
       "3                              AA    AA.                NaN\n",
       "4  AberforthSmallerCompaniesTrust    ASL                NaN"
      ]
     },
     "execution_count": 10,
     "metadata": {},
     "output_type": "execute_result"
    }
   ],
   "source": [
    "companies_twitter_handles_uk.head()"
   ]
  },
  {
   "cell_type": "markdown",
   "metadata": {},
   "source": [
    "Create a Tweepy authentication handler."
   ]
  },
  {
   "cell_type": "code",
   "execution_count": 17,
   "metadata": {},
   "outputs": [],
   "source": [
    "auth = tweepy.OAuthHandler(\n",
    "    cp['emas_twitter_credentials']['consumer_key'],\n",
    "    cp['emas_twitter_credentials']['consumer_secret'])\n",
    "auth.set_access_token(\n",
    "    cp['emas_twitter_credentials']['access_token'],\n",
    "    cp['emas_twitter_credentials']['access_token_secret']\n",
    ")"
   ]
  },
  {
   "cell_type": "markdown",
   "metadata": {},
   "source": [
    "Insantiate a Tweepy API object (a wrapper for the Twitter API)."
   ]
  },
  {
   "cell_type": "code",
   "execution_count": 19,
   "metadata": {},
   "outputs": [],
   "source": [
    "api = tweepy.API(auth_handler=auth)"
   ]
  },
  {
   "cell_type": "markdown",
   "metadata": {},
   "source": [
    "Get users' (companies') ids given the handles."
   ]
  },
  {
   "cell_type": "code",
   "execution_count": 23,
   "metadata": {},
   "outputs": [
    {
     "data": {
      "text/plain": [
       "18563305"
      ]
     },
     "execution_count": 23,
     "metadata": {},
     "output_type": "execute_result"
    }
   ],
   "source": [
    "api.get_user(companies_twitter_handles_uk_list[0]).id"
   ]
  },
  {
   "cell_type": "code",
   "execution_count": 25,
   "metadata": {},
   "outputs": [],
   "source": [
    "twitter_ids_dict = {}"
   ]
  },
  {
   "cell_type": "code",
   "execution_count": 26,
   "metadata": {},
   "outputs": [],
   "source": [
    "def get_users_ids(api, twitter_handles_list, twitter_ids_dict, n_users=None):\n",
    "    \"\"\"\n",
    "    PARAMS\n",
    "    ------\n",
    "        api: Tweepy API object.\n",
    "        twitter_handles_list: list of Twitter handles (screen names)\n",
    "        twitter_ids_dict: dictionary to which to append the new {'handle': 'id'}\n",
    "            key-value pairs\n",
    "        n_users: maximum number of users of which to fetch the ids. Default: None\n",
    "         (i.e. range(twitter_handles_list)).\n",
    "    \"\"\"\n",
    "    if not n_users:\n",
    "        n_users = len(twitter_handles_list)\n",
    "        \n",
    "    print(f\"Fetching {n_users} ids\")\n",
    "    \n",
    "    for i in range(n_users):\n",
    "        twitter_handle = twitter_handles_list[i]\n",
    "        \n",
    "        print(f\"Fetching id: @{twitter_handle}\")\n",
    "        \n",
    "        try:\n",
    "            twitter_id = api.get_user(twitter_handle).id\n",
    "            \n",
    "            twitter_ids_dict.update(\n",
    "                {twitter_handle: twitter_id}\n",
    "            )\n",
    "        except Exception as e:\n",
    "            print(e)"
   ]
  },
  {
   "cell_type": "code",
   "execution_count": 27,
   "metadata": {},
   "outputs": [
    {
     "name": "stdout",
     "output_type": "stream",
     "text": [
      "Fetching 10 ids\n",
      "Fetching id: @3i\n",
      "Fetching id: @3iInfrastructure\n",
      "[{'code': 50, 'message': 'User not found.'}]\n",
      "Fetching id: @888Holdings\n",
      "Fetching id: @AA\n",
      "Fetching id: @AberforthSmallerCompaniesTrust\n",
      "[{'code': 50, 'message': 'User not found.'}]\n",
      "Fetching id: @AdmiralGroup\n",
      "Fetching id: @Aggreko\n",
      "Fetching id: @AllianceTrust\n",
      "Fetching id: @Amigo\n",
      "Fetching id: @AngloAmerican\n"
     ]
    }
   ],
   "source": [
    "get_users_ids(api, companies_twitter_handles_uk_list, twitter_ids_dict, n_users=10)"
   ]
  },
  {
   "cell_type": "code",
   "execution_count": 29,
   "metadata": {},
   "outputs": [
    {
     "data": {
      "text/plain": [
       "18563305"
      ]
     },
     "execution_count": 29,
     "metadata": {},
     "output_type": "execute_result"
    }
   ],
   "source": [
    "twitter_ids_dict['3i']"
   ]
  }
 ],
 "metadata": {
  "kernelspec": {
   "display_name": "Python [conda env:Python3]",
   "language": "python",
   "name": "conda-env-Python3-py"
  },
  "language_info": {
   "codemirror_mode": {
    "name": "ipython",
    "version": 3
   },
   "file_extension": ".py",
   "mimetype": "text/x-python",
   "name": "python",
   "nbconvert_exporter": "python",
   "pygments_lexer": "ipython3",
   "version": "3.6.6"
  }
 },
 "nbformat": 4,
 "nbformat_minor": 2
}
