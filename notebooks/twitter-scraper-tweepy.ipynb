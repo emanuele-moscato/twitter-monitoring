{
 "cells": [
  {
   "cell_type": "markdown",
   "metadata": {},
   "source": [
    "# Test the `twitter_scraping` module"
   ]
  },
  {
   "cell_type": "code",
   "execution_count": 34,
   "metadata": {},
   "outputs": [
    {
     "name": "stdout",
     "output_type": "stream",
     "text": [
      "The autoreload extension is already loaded. To reload it, use:\n",
      "  %reload_ext autoreload\n"
     ]
    }
   ],
   "source": [
    "import tweepy\n",
    "import pandas as pd\n",
    "from configparser import ConfigParser\n",
    "import daiquiri\n",
    "import logging\n",
    "import sys\n",
    "import os.path as path\n",
    "import pickle\n",
    "from twitter_scraping.twitter_scraping import print_rate_limits, get_users_ids, \\\n",
    "    fetch_tweets, TwitterScraper\n",
    "\n",
    "%load_ext autoreload"
   ]
  },
  {
   "cell_type": "markdown",
   "metadata": {},
   "source": [
    "## Test functions"
   ]
  },
  {
   "cell_type": "markdown",
   "metadata": {},
   "source": [
    "Create a Tweepy API object."
   ]
  },
  {
   "cell_type": "code",
   "execution_count": 4,
   "metadata": {},
   "outputs": [
    {
     "data": {
      "text/plain": [
       "['../.secret/credentials.ini']"
      ]
     },
     "execution_count": 4,
     "metadata": {},
     "output_type": "execute_result"
    }
   ],
   "source": [
    "cp = ConfigParser()\n",
    "cp.read('../.secret/credentials.ini')"
   ]
  },
  {
   "cell_type": "code",
   "execution_count": 5,
   "metadata": {},
   "outputs": [],
   "source": [
    "auth = tweepy.OAuthHandler(\n",
    "    cp['emas_twitter_credentials']['consumer_key'],\n",
    "    cp['emas_twitter_credentials']['consumer_secret'])\n",
    "auth.set_access_token(\n",
    "    cp['emas_twitter_credentials']['access_token'],\n",
    "    cp['emas_twitter_credentials']['access_token_secret']\n",
    ")"
   ]
  },
  {
   "cell_type": "code",
   "execution_count": 4,
   "metadata": {},
   "outputs": [],
   "source": [
    "api = tweepy.API(auth_handler=auth)"
   ]
  },
  {
   "cell_type": "markdown",
   "metadata": {},
   "source": [
    "Test functions in the `twitter_scraping.twitter_scraping` module."
   ]
  },
  {
   "cell_type": "code",
   "execution_count": 5,
   "metadata": {},
   "outputs": [
    {
     "name": "stdout",
     "output_type": "stream",
     "text": [
      "/application/rate_limit_status\n",
      "{'limit': 180, 'remaining': 179, 'reset': 1540483361}\n",
      "/statuses/user_timeline\n",
      "{'limit': 900, 'remaining': 895, 'reset': 1540483068}\n"
     ]
    }
   ],
   "source": [
    "print_rate_limits(api)"
   ]
  },
  {
   "cell_type": "code",
   "execution_count": 6,
   "metadata": {},
   "outputs": [
    {
     "name": "stdout",
     "output_type": "stream",
     "text": [
      "Fetching 4 ids\n",
      "Fetching id: @dpalmisano\n",
      "Fetching id: @Intel\n",
      "Fetching id: @AMD\n",
      "Fetching id: @nvidia\n"
     ]
    }
   ],
   "source": [
    "twitter_handles_list = [\n",
    "    'dpalmisano',\n",
    "    'Intel',\n",
    "    'AMD',\n",
    "    'nvidia']\n",
    "twitter_ids_dict = {}\n",
    "\n",
    "get_users_ids(api, twitter_handles_list, twitter_ids_dict)"
   ]
  },
  {
   "cell_type": "code",
   "execution_count": 7,
   "metadata": {
    "scrolled": false
   },
   "outputs": [
    {
     "data": {
      "text/plain": [
       "{'dpalmisano': 14656799, 'Intel': 2803191, 'AMD': 14861876, 'nvidia': 61559439}"
      ]
     },
     "execution_count": 7,
     "metadata": {},
     "output_type": "execute_result"
    }
   ],
   "source": [
    "twitter_ids_dict"
   ]
  },
  {
   "cell_type": "code",
   "execution_count": 8,
   "metadata": {},
   "outputs": [],
   "source": [
    "tweets_cols = [\n",
    "    'twitter_id',\n",
    "    'created_at',\n",
    "    'text',\n",
    "    'user_id',\n",
    "    'twitter_handle',\n",
    "    'is_retweet',\n",
    "    'retweet_count',\n",
    "    'favorite_count'\n",
    "]\n",
    "\n",
    "tweets_df = pd.DataFrame(columns=tweets_cols)"
   ]
  },
  {
   "cell_type": "code",
   "execution_count": 9,
   "metadata": {},
   "outputs": [
    {
     "name": "stdout",
     "output_type": "stream",
     "text": [
      "Fetching tweets: dpalmisano\n",
      "since_id=None\n",
      "Fetching tweets: Intel\n",
      "since_id=None\n",
      "Fetching tweets: AMD\n",
      "since_id=None\n",
      "Fetching tweets: nvidia\n",
      "since_id=None\n"
     ]
    }
   ],
   "source": [
    "tweets_df = fetch_tweets(api, twitter_ids_dict, tweets_df)"
   ]
  },
  {
   "cell_type": "code",
   "execution_count": 10,
   "metadata": {},
   "outputs": [
    {
     "data": {
      "text/html": [
       "<div>\n",
       "<style scoped>\n",
       "    .dataframe tbody tr th:only-of-type {\n",
       "        vertical-align: middle;\n",
       "    }\n",
       "\n",
       "    .dataframe tbody tr th {\n",
       "        vertical-align: top;\n",
       "    }\n",
       "\n",
       "    .dataframe thead th {\n",
       "        text-align: right;\n",
       "    }\n",
       "</style>\n",
       "<table border=\"1\" class=\"dataframe\">\n",
       "  <thead>\n",
       "    <tr style=\"text-align: right;\">\n",
       "      <th></th>\n",
       "      <th>twitter_id</th>\n",
       "      <th>created_at</th>\n",
       "      <th>text</th>\n",
       "      <th>user_id</th>\n",
       "      <th>is_retweet</th>\n",
       "      <th>retweet_count</th>\n",
       "      <th>favorite_count</th>\n",
       "    </tr>\n",
       "    <tr>\n",
       "      <th>twitter_handle</th>\n",
       "      <th></th>\n",
       "      <th></th>\n",
       "      <th></th>\n",
       "      <th></th>\n",
       "      <th></th>\n",
       "      <th></th>\n",
       "      <th></th>\n",
       "    </tr>\n",
       "  </thead>\n",
       "  <tbody>\n",
       "    <tr>\n",
       "      <th>AMD</th>\n",
       "      <td>200</td>\n",
       "      <td>200</td>\n",
       "      <td>200</td>\n",
       "      <td>200</td>\n",
       "      <td>200</td>\n",
       "      <td>200</td>\n",
       "      <td>200</td>\n",
       "    </tr>\n",
       "    <tr>\n",
       "      <th>Intel</th>\n",
       "      <td>200</td>\n",
       "      <td>200</td>\n",
       "      <td>200</td>\n",
       "      <td>200</td>\n",
       "      <td>200</td>\n",
       "      <td>200</td>\n",
       "      <td>200</td>\n",
       "    </tr>\n",
       "    <tr>\n",
       "      <th>dpalmisano</th>\n",
       "      <td>197</td>\n",
       "      <td>197</td>\n",
       "      <td>197</td>\n",
       "      <td>197</td>\n",
       "      <td>197</td>\n",
       "      <td>197</td>\n",
       "      <td>197</td>\n",
       "    </tr>\n",
       "    <tr>\n",
       "      <th>nvidia</th>\n",
       "      <td>200</td>\n",
       "      <td>200</td>\n",
       "      <td>200</td>\n",
       "      <td>200</td>\n",
       "      <td>200</td>\n",
       "      <td>200</td>\n",
       "      <td>200</td>\n",
       "    </tr>\n",
       "  </tbody>\n",
       "</table>\n",
       "</div>"
      ],
      "text/plain": [
       "                twitter_id  created_at  text  user_id  is_retweet  \\\n",
       "twitter_handle                                                      \n",
       "AMD                    200         200   200      200         200   \n",
       "Intel                  200         200   200      200         200   \n",
       "dpalmisano             197         197   197      197         197   \n",
       "nvidia                 200         200   200      200         200   \n",
       "\n",
       "                retweet_count  favorite_count  \n",
       "twitter_handle                                 \n",
       "AMD                       200             200  \n",
       "Intel                     200             200  \n",
       "dpalmisano                197             197  \n",
       "nvidia                    200             200  "
      ]
     },
     "execution_count": 10,
     "metadata": {},
     "output_type": "execute_result"
    }
   ],
   "source": [
    "tweets_df.groupby(by='twitter_handle').count()"
   ]
  },
  {
   "cell_type": "code",
   "execution_count": 12,
   "metadata": {},
   "outputs": [],
   "source": [
    "with open('../data/data_tweepy/tweets_df.pkl', 'wb') as f:\n",
    "    pickle.dump(tweets_df, f)"
   ]
  },
  {
   "cell_type": "markdown",
   "metadata": {},
   "source": [
    "## Test the `TwitterScraper` object"
   ]
  },
  {
   "cell_type": "markdown",
   "metadata": {},
   "source": [
    "Instantiate logger."
   ]
  },
  {
   "cell_type": "code",
   "execution_count": 6,
   "metadata": {},
   "outputs": [],
   "source": [
    "LOGS_DIR = '../logs/logs_tweepy/'\n",
    "IDS_PATH = '../data/data_tweepy/twitter_ids_dict.json'\n",
    "DATA_PATH = '../data/data_tweepy/tweets_df.pkl'"
   ]
  },
  {
   "cell_type": "code",
   "execution_count": 7,
   "metadata": {},
   "outputs": [],
   "source": [
    "daiquiri.setup(\n",
    "    level=logging.INFO,\n",
    "    outputs=(\n",
    "        daiquiri.output.Stream(sys.stdout),\n",
    "        daiquiri.output.File(\n",
    "            path.join(LOGS_DIR, 'update_tweets.log'),\n",
    "            formatter=daiquiri.formatter.TEXT_FORMATTER\n",
    "        )\n",
    "    )\n",
    ")\n",
    "\n",
    "logger = daiquiri.getLogger(__name__)"
   ]
  },
  {
   "cell_type": "markdown",
   "metadata": {},
   "source": [
    "Instantiate scraper."
   ]
  },
  {
   "cell_type": "code",
   "execution_count": 43,
   "metadata": {},
   "outputs": [],
   "source": [
    "%autoreload 2\n",
    "\n",
    "twitter_scraper = TwitterScraper(\n",
    "    logger,\n",
    "    data_path=DATA_PATH,\n",
    "    credentials_path='../.secret/credentials.ini',\n",
    "    twitter_ids_dict_path=IDS_PATH\n",
    ")"
   ]
  },
  {
   "cell_type": "code",
   "execution_count": 158,
   "metadata": {},
   "outputs": [],
   "source": [
    "twitter_scraper.load_tweets()"
   ]
  },
  {
   "cell_type": "code",
   "execution_count": 159,
   "metadata": {},
   "outputs": [
    {
     "data": {
      "text/plain": [
       "(1, 8)"
      ]
     },
     "execution_count": 159,
     "metadata": {},
     "output_type": "execute_result"
    }
   ],
   "source": [
    "twitter_scraper.tweets_df.shape"
   ]
  },
  {
   "cell_type": "code",
   "execution_count": 160,
   "metadata": {},
   "outputs": [],
   "source": [
    "twitter_scraper.get_twitter_ids()"
   ]
  },
  {
   "cell_type": "code",
   "execution_count": 161,
   "metadata": {},
   "outputs": [
    {
     "name": "stdout",
     "output_type": "stream",
     "text": [
      "{'dpalmisano': 14656799, 'Intel': 2803191, 'AMD': 14861876, 'nvidia': 61559439}\n"
     ]
    }
   ],
   "source": [
    "print(twitter_scraper.twitter_ids_dict)"
   ]
  },
  {
   "cell_type": "code",
   "execution_count": 167,
   "metadata": {
    "scrolled": true
   },
   "outputs": [
    {
     "name": "stdout",
     "output_type": "stream",
     "text": [
      "2018-10-30 14:02:33,769 [16990] INFO     __main__: Loading tweets...\n",
      "2018-10-30 14:02:33,790 [16990] INFO     __main__: Fetching tweets...\n",
      "Fetching tweets: dpalmisano\n",
      "since_id=None\n",
      "Fetching tweets: Intel\n",
      "since_id=None\n",
      "Fetching tweets: AMD\n",
      "since_id=None\n",
      "Fetching tweets: nvidia\n",
      "since_id=None\n",
      "2018-10-30 14:02:40,525 [16990] INFO     __main__: Saving tweets...\n"
     ]
    }
   ],
   "source": [
    "twitter_scraper.get_twitter_ids()\n",
    "\n",
    "twitter_scraper.fetch_tweets(\n",
    "    twitter_scraper.get_tweepy_api(),\n",
    "    twitter_scraper.twitter_ids_dict\n",
    ")"
   ]
  },
  {
   "cell_type": "code",
   "execution_count": 168,
   "metadata": {
    "scrolled": false
   },
   "outputs": [
    {
     "data": {
      "text/html": [
       "<div>\n",
       "<style scoped>\n",
       "    .dataframe tbody tr th:only-of-type {\n",
       "        vertical-align: middle;\n",
       "    }\n",
       "\n",
       "    .dataframe tbody tr th {\n",
       "        vertical-align: top;\n",
       "    }\n",
       "\n",
       "    .dataframe thead th {\n",
       "        text-align: right;\n",
       "    }\n",
       "</style>\n",
       "<table border=\"1\" class=\"dataframe\">\n",
       "  <thead>\n",
       "    <tr style=\"text-align: right;\">\n",
       "      <th></th>\n",
       "      <th>twitter_id</th>\n",
       "      <th>created_at</th>\n",
       "      <th>text</th>\n",
       "      <th>user_id</th>\n",
       "      <th>is_retweet</th>\n",
       "      <th>retweet_count</th>\n",
       "      <th>favorite_count</th>\n",
       "    </tr>\n",
       "    <tr>\n",
       "      <th>twitter_handle</th>\n",
       "      <th></th>\n",
       "      <th></th>\n",
       "      <th></th>\n",
       "      <th></th>\n",
       "      <th></th>\n",
       "      <th></th>\n",
       "      <th></th>\n",
       "    </tr>\n",
       "  </thead>\n",
       "  <tbody>\n",
       "    <tr>\n",
       "      <th>AMD</th>\n",
       "      <td>200</td>\n",
       "      <td>200</td>\n",
       "      <td>200</td>\n",
       "      <td>200</td>\n",
       "      <td>200</td>\n",
       "      <td>200</td>\n",
       "      <td>200</td>\n",
       "    </tr>\n",
       "    <tr>\n",
       "      <th>Intel</th>\n",
       "      <td>200</td>\n",
       "      <td>200</td>\n",
       "      <td>200</td>\n",
       "      <td>200</td>\n",
       "      <td>200</td>\n",
       "      <td>200</td>\n",
       "      <td>200</td>\n",
       "    </tr>\n",
       "    <tr>\n",
       "      <th>dpalmisano</th>\n",
       "      <td>197</td>\n",
       "      <td>197</td>\n",
       "      <td>197</td>\n",
       "      <td>197</td>\n",
       "      <td>197</td>\n",
       "      <td>197</td>\n",
       "      <td>197</td>\n",
       "    </tr>\n",
       "    <tr>\n",
       "      <th>nvidia</th>\n",
       "      <td>200</td>\n",
       "      <td>200</td>\n",
       "      <td>200</td>\n",
       "      <td>200</td>\n",
       "      <td>200</td>\n",
       "      <td>200</td>\n",
       "      <td>200</td>\n",
       "    </tr>\n",
       "  </tbody>\n",
       "</table>\n",
       "</div>"
      ],
      "text/plain": [
       "                twitter_id  created_at  text  user_id  is_retweet  \\\n",
       "twitter_handle                                                      \n",
       "AMD                    200         200   200      200         200   \n",
       "Intel                  200         200   200      200         200   \n",
       "dpalmisano             197         197   197      197         197   \n",
       "nvidia                 200         200   200      200         200   \n",
       "\n",
       "                retweet_count  favorite_count  \n",
       "twitter_handle                                 \n",
       "AMD                       200             200  \n",
       "Intel                     200             200  \n",
       "dpalmisano                197             197  \n",
       "nvidia                    200             200  "
      ]
     },
     "execution_count": 168,
     "metadata": {},
     "output_type": "execute_result"
    }
   ],
   "source": [
    "twitter_scraper.tweets_df.groupby(by='twitter_handle').count()"
   ]
  },
  {
   "cell_type": "code",
   "execution_count": 170,
   "metadata": {},
   "outputs": [],
   "source": [
    "tweets_cols = [\n",
    "    'twitter_id',\n",
    "    'created_at',\n",
    "    'text',\n",
    "    'user_id',\n",
    "    'twitter_handle',\n",
    "    'is_retweet',\n",
    "    'retweet_count',\n",
    "    'favorite_count'\n",
    "]\n",
    "\n",
    "tweets_df = pd.DataFrame(columns=tweets_cols)"
   ]
  },
  {
   "cell_type": "code",
   "execution_count": 171,
   "metadata": {},
   "outputs": [],
   "source": [
    "# with open('../data/data_tweepy/tweets_df.pkl', 'wb') as f:\n",
    "#     pickle.dump(tweets_df, f)"
   ]
  },
  {
   "cell_type": "markdown",
   "metadata": {},
   "source": [
    "Test adding Twitter handles."
   ]
  },
  {
   "cell_type": "code",
   "execution_count": 44,
   "metadata": {},
   "outputs": [],
   "source": [
    "twitter_scraper.get_twitter_ids()"
   ]
  },
  {
   "cell_type": "code",
   "execution_count": 48,
   "metadata": {},
   "outputs": [
    {
     "data": {
      "text/plain": [
       "{'dpalmisano': 14656799,\n",
       " 'Intel': 2803191,\n",
       " 'AMD': 14861876,\n",
       " 'nvidia': 61559439,\n",
       " 'UKGamesWorkshop': 226546364}"
      ]
     },
     "execution_count": 48,
     "metadata": {},
     "output_type": "execute_result"
    }
   ],
   "source": [
    "twitter_scraper.twitter_ids_dict"
   ]
  },
  {
   "cell_type": "code",
   "execution_count": 46,
   "metadata": {},
   "outputs": [],
   "source": [
    "twitter_scraper.save_twitter_ids()"
   ]
  },
  {
   "cell_type": "code",
   "execution_count": 47,
   "metadata": {},
   "outputs": [],
   "source": [
    "twitter_scraper.add_handle('UKGamesWorkshop')"
   ]
  }
 ],
 "metadata": {
  "kernelspec": {
   "display_name": "Python [conda env:Python3]",
   "language": "python",
   "name": "conda-env-Python3-py"
  },
  "language_info": {
   "codemirror_mode": {
    "name": "ipython",
    "version": 3
   },
   "file_extension": ".py",
   "mimetype": "text/x-python",
   "name": "python",
   "nbconvert_exporter": "python",
   "pygments_lexer": "ipython3",
   "version": "3.6.6"
  }
 },
 "nbformat": 4,
 "nbformat_minor": 2
}
